{
 "cells": [
  {
   "cell_type": "markdown",
   "metadata": {},
   "source": [
    "<h1 style = \"color:Red\" >Working with NumPy</h1>\n"
   ]
  },
  {
   "cell_type": "markdown",
   "metadata": {},
   "source": [
    "<h2 style = \"color:Green\"> Outcomes </h2>\n",
    "\n",
    "#### At the end of this chapter, you will be able to\n",
    "* Define NumPy data types\n",
    "* Create and work with NumPy Arrays\n",
    "* Understand the applications of NumpPy"
   ]
  },
  {
   "cell_type": "markdown",
   "metadata": {},
   "source": [
    "<h2 style = \"color:Green\">What is Numpy?</h2>\n",
    "\n",
    "* A Python package for scientific computations\n",
    "\n",
    "* NumPy = ***Numerical Python***\n",
    "\n",
    "* Numpy Library = Multi-dimensional array objects & Functions for processing it.\n",
    "\n",
    "* Multi-dimensional object --> ___ndarray___ object\n",
    "\n",
    "* Variaous operations supported: Arithmetic, Logical, Shape manipulation, Sort, DFT, Statistics, Random simulation etc.\n",
    "\n",
    "* Importing NumPy: ___import numpy as np___"
   ]
  },
  {
   "cell_type": "code",
   "execution_count": 1,
   "metadata": {},
   "outputs": [],
   "source": [
    "import numpy as np"
   ]
  },
  {
   "cell_type": "markdown",
   "metadata": {},
   "source": [
    "<h2 style = \"color:Green\"> Creating and Accessing ndarray object</h2>\n",
    "    \n",
    "* ndarray: Collection of items of the same type\n",
    "\n",
    "    \n",
    "* Items can be accessed using zero-based index.\n",
    "\n",
    "    \n",
    "* array() Function: ***numpy.array(object)*** \n",
    "                --> Creates an ndarray from an object.\n",
    "                --> object: Any array or sequence.\n",
    "               "
   ]
  },
  {
   "cell_type": "markdown",
   "metadata": {},
   "source": [
    "<h3 style = \"color:Blue\">One Dimensional Array (Vector):</h3>"
   ]
  },
  {
   "cell_type": "code",
   "execution_count": 2,
   "metadata": {},
   "outputs": [
    {
     "name": "stdout",
     "output_type": "stream",
     "text": [
      "[1 2 3]\n",
      "<class 'numpy.ndarray'>\n"
     ]
    }
   ],
   "source": [
    "a1 = np.array([1, 2, 3])\n",
    "print(a1)\n",
    "print(type(a1))"
   ]
  },
  {
   "cell_type": "code",
   "execution_count": 3,
   "metadata": {},
   "outputs": [
    {
     "name": "stdout",
     "output_type": "stream",
     "text": [
      "[1 2 3]\n",
      "<class 'numpy.ndarray'>\n"
     ]
    }
   ],
   "source": [
    "a1 = np.array((1, 2, 3))\n",
    "print(a1)\n",
    "print(type(a1))"
   ]
  },
  {
   "cell_type": "code",
   "execution_count": 4,
   "metadata": {},
   "outputs": [
    {
     "name": "stdout",
     "output_type": "stream",
     "text": [
      "Samsidh\n",
      "<class 'numpy.ndarray'>\n"
     ]
    }
   ],
   "source": [
    "a3 = np.array(\"Samsidh\")\n",
    "print(a3)\n",
    "print(type(a3))"
   ]
  },
  {
   "attachments": {
    "oneDim.png": {
     "image/png": "[encoded data removed]"
    }
   },
   "cell_type": "markdown",
   "metadata": {},
   "source": [
    "<h4 style = \"color:Brown\">Indexing & Slicing:</h4>\n",
    "\n",
    "![oneDim.png](attachment:oneDim.png)"
   ]
  },
  {
   "cell_type": "code",
   "execution_count": 5,
   "metadata": {},
   "outputs": [
    {
     "name": "stdout",
     "output_type": "stream",
     "text": [
      "10\n",
      "20\n",
      "30\n",
      "40\n",
      "40\n",
      "[20 30]\n"
     ]
    }
   ],
   "source": [
    "arr = np.array([10, 20, 30, 40])\n",
    "print(arr[0])\n",
    "print(arr[1])\n",
    "print(arr[2])\n",
    "print(arr[3])\n",
    "print(arr[-1])\n",
    "print(arr[1:3])"
   ]
  },
  {
   "cell_type": "markdown",
   "metadata": {},
   "source": [
    "<h3 style = \"color:Blue\">Two-Dimensional Arrays(Matrices)</h3>\n",
    "\n",
    "* Each element  is itself 1D array\n",
    "\n",
    "\n",
    "* arr2 = numpy.array([[row1], [row2], ...., [rowM]])\n",
    "\n",
    "\n",
    "* Accessing an element: arr2[row_index, column_index]"
   ]
  },
  {
   "cell_type": "code",
   "execution_count": 6,
   "metadata": {},
   "outputs": [
    {
     "name": "stdout",
     "output_type": "stream",
     "text": [
      "[[10 20]\n",
      " [30 40]\n",
      " [50 60]]\n",
      "Row 1: [10 20]\n",
      "Row 2: [30 40]\n",
      "Row 3: [50 60]\n",
      "Column 1: [10 30 50]\n",
      "Column 2: [20 40 60]\n",
      "Fisrst two rows:\n",
      " [[10 20]\n",
      " [30 40]]\n",
      "60\n"
     ]
    }
   ],
   "source": [
    "arr2 = np.array([[10, 20], [30, 40], [50, 60]])\n",
    "print(arr2)\n",
    "print(\"Row 1:\",arr2[0])\n",
    "print(\"Row 2:\",arr2[1])\n",
    "print(\"Row 3:\",arr2[2,:])\n",
    "print(\"Column 1:\",arr2[:,0])\n",
    "print(\"Column 2:\",arr2[:,1])\n",
    "print(\"Fisrst two rows:\\n\",arr2[0:2,:])\n",
    "print(arr2[2,1])"
   ]
  },
  {
   "cell_type": "markdown",
   "metadata": {},
   "source": [
    "<h2 style = \"color:Green\">ndarray Attribtes</h2>"
   ]
  },
  {
   "cell_type": "markdown",
   "metadata": {},
   "source": [
    "* ndarray.ndim: Number of dimensions\n",
    "\n",
    "\n",
    "* ndarry.shape: Array dimensions as a tuple.\n",
    "\n",
    "\n",
    "* ndarry.size: Total number of elements\n",
    "\n",
    "\n",
    "* ndarry.dtype: Type of the array elements.\n",
    "\n",
    "\n",
    "* ndarray.itemsize: The size of each element in bytes"
   ]
  },
  {
   "cell_type": "code",
   "execution_count": 7,
   "metadata": {},
   "outputs": [
    {
     "name": "stdout",
     "output_type": "stream",
     "text": [
      "1\n",
      "(3,)\n",
      "3\n",
      "int32\n",
      "4\n"
     ]
    }
   ],
   "source": [
    "a = np.array([1, 2, 3])\n",
    "print(a.ndim)\n",
    "print(a.shape)\n",
    "print(a.size)\n",
    "print(a.dtype)\n",
    "print(a.itemsize)\n"
   ]
  },
  {
   "cell_type": "code",
   "execution_count": 8,
   "metadata": {},
   "outputs": [
    {
     "name": "stdout",
     "output_type": "stream",
     "text": [
      "2\n",
      "(2, 3)\n",
      "6\n",
      "int32\n",
      "4\n"
     ]
    }
   ],
   "source": [
    "b = np.array([[1, 2, 3],[4, 5, 6]])\n",
    "print(b.ndim)\n",
    "print(b.shape)\n",
    "print(b.size)\n",
    "print(b.dtype)\n",
    "print(b.itemsize)"
   ]
  },
  {
   "cell_type": "markdown",
   "metadata": {},
   "source": [
    "<h2 style = \"color:Green\">Other NumPy array creation functions</h2>"
   ]
  },
  {
   "cell_type": "markdown",
   "metadata": {},
   "source": [
    "#### zeros(shape)\n",
    "* Returns an array of zeros with specified shape\n",
    "* Dafalut dtype is float\n",
    "\n",
    "\n",
    "\n",
    "#### ones(shape)\n",
    "* Returns an array of ones with specified shape\n",
    "* Dafalut dtype is float\n",
    "\n",
    "\n",
    "#### arange(start, stop, step, dtype)\n",
    "* Returns an ndarray object with elements decided by start, stop and step arguments.\n",
    "* Note that stop value is not including in the array.\n",
    "* Default dtype is type is determined by type of start or stop values."
   ]
  },
  {
   "cell_type": "code",
   "execution_count": 9,
   "metadata": {},
   "outputs": [
    {
     "name": "stdout",
     "output_type": "stream",
     "text": [
      "[0. 0. 0. 0. 0.]\n",
      "[[0. 0. 0.]\n",
      " [0. 0. 0.]]\n",
      "[[0 0 0]\n",
      " [0 0 0]]\n"
     ]
    }
   ],
   "source": [
    "z1 = np.zeros(5)\n",
    "print(z1)\n",
    "\n",
    "z2 = np.zeros((2,3))\n",
    "print(z2)\n",
    "\n",
    "z3 = np.zeros((2,3), dtype = np.uint8)\n",
    "print(z3)\n"
   ]
  },
  {
   "cell_type": "code",
   "execution_count": 10,
   "metadata": {},
   "outputs": [
    {
     "name": "stdout",
     "output_type": "stream",
     "text": [
      "[1. 1. 1. 1. 1.]\n",
      "[[1. 1. 1.]\n",
      " [1. 1. 1.]]\n",
      "[[1 1 1]\n",
      " [1 1 1]]\n"
     ]
    }
   ],
   "source": [
    "o1 = np.ones(5)\n",
    "print(o1)\n",
    "\n",
    "o2 = np.ones((2,3))\n",
    "print(o2)\n",
    "\n",
    "o3 = np.ones((2,3), dtype = np.int64)\n",
    "print(o3)"
   ]
  },
  {
   "cell_type": "code",
   "execution_count": 11,
   "metadata": {},
   "outputs": [
    {
     "name": "stdout",
     "output_type": "stream",
     "text": [
      "[0 1 2 3 4 5 6 7 8 9]\n",
      "int32\n",
      "[0. 1. 2. 3. 4. 5. 6. 7. 8. 9.]\n",
      "float64\n",
      "[ 10  20  30  40  50  60  70  80  90 100]\n",
      "[ 0  2  4  6  8 10]\n"
     ]
    }
   ],
   "source": [
    "r1 = np.arange(10)\n",
    "print(r1)\n",
    "print(r1.dtype)\n",
    "\n",
    "r2 = np.arange(10.0)\n",
    "print(r2)\n",
    "print(r2.dtype)\n",
    "\n",
    "r3 = np.arange(10, 101, 10)\n",
    "print(r3)\n",
    "\n",
    "r4 = np.arange(0, 11, 2)\n",
    "print(r4)\n",
    "\n"
   ]
  },
  {
   "cell_type": "markdown",
   "metadata": {},
   "source": [
    "#### We can use reshape() function to chande the shape of an existing array"
   ]
  },
  {
   "cell_type": "code",
   "execution_count": 12,
   "metadata": {},
   "outputs": [
    {
     "name": "stdout",
     "output_type": "stream",
     "text": [
      "[[ 1  2  3  4  5]\n",
      " [ 6  7  8  9 10]]\n"
     ]
    }
   ],
   "source": [
    "arr = np.arange(1,11).reshape((2,5))\n",
    "print(arr)                              "
   ]
  },
  {
   "cell_type": "markdown",
   "metadata": {},
   "source": [
    "<h2 style = \"color:Green\">Some Basic Methods</h2>"
   ]
  },
  {
   "cell_type": "markdown",
   "metadata": {},
   "source": [
    "### sum(): Returns the sum of array elements\n",
    "\n",
    "\n",
    "### min(): Returns the minimum value in array\n",
    "\n",
    "\n",
    "### max(): Returns the maximum value in array\n"
   ]
  },
  {
   "cell_type": "code",
   "execution_count": 13,
   "metadata": {},
   "outputs": [
    {
     "name": "stdout",
     "output_type": "stream",
     "text": [
      "[[1 2]\n",
      " [3 4]\n",
      " [5 6]]\n"
     ]
    }
   ],
   "source": [
    "mat1 = np.array([[1,2],[3,4],[5,6]])\n",
    "print(mat1)"
   ]
  },
  {
   "cell_type": "code",
   "execution_count": 14,
   "metadata": {},
   "outputs": [
    {
     "name": "stdout",
     "output_type": "stream",
     "text": [
      "21\n",
      "6\n",
      "1\n"
     ]
    }
   ],
   "source": [
    "print(mat1.sum())\n",
    "print(mat1.max())\n",
    "print(mat1.min())"
   ]
  },
  {
   "attachments": {
    "Untitled.png": {
     "image/png": "[encoded data removed]"
    }
   },
   "cell_type": "markdown",
   "metadata": {},
   "source": [
    "<h3 style = \"color:Blue\">axis Argument with ndarray</h3>\n",
    "\n",
    "\n",
    "* axis = None --> Array wise operation\n",
    "\n",
    "\n",
    "* axis = 0 --> Column-wise operation\n",
    "\n",
    "\n",
    "* axis = 1 --> Row-wise operation \n",
    "![Untitled.png](attachment:Untitled.png)"
   ]
  },
  {
   "cell_type": "code",
   "execution_count": 15,
   "metadata": {},
   "outputs": [
    {
     "name": "stdout",
     "output_type": "stream",
     "text": [
      "[ 9 12]\n",
      "[5 6]\n",
      "[1 2]\n"
     ]
    }
   ],
   "source": [
    "# Column-wise operations\n",
    "print(mat1.sum(axis = 0))\n",
    "print(mat1.max(axis = 0))\n",
    "print(mat1.min(axis = 0))"
   ]
  },
  {
   "cell_type": "code",
   "execution_count": 16,
   "metadata": {},
   "outputs": [
    {
     "name": "stdout",
     "output_type": "stream",
     "text": [
      "[ 3  7 11]\n",
      "[2 4 6]\n",
      "[1 3 5]\n"
     ]
    }
   ],
   "source": [
    "# Row-wise operations\n",
    "print(mat1.sum(axis = 1))\n",
    "print(mat1.max(axis = 1))\n",
    "print(mat1.min(axis = 1))"
   ]
  },
  {
   "cell_type": "code",
   "execution_count": null,
   "metadata": {},
   "outputs": [],
   "source": []
  }
 ],
 "metadata": {
  "kernelspec": {
   "display_name": "Python 3",
   "language": "python",
   "name": "python3"
  },
  "language_info": {
   "codemirror_mode": {
    "name": "ipython",
    "version": 3
   },
   "file_extension": ".py",
   "mimetype": "text/x-python",
   "name": "python",
   "nbconvert_exporter": "python",
   "pygments_lexer": "ipython3",
   "version": "3.7.6"
  }
 },
 "nbformat": 4,
 "nbformat_minor": 4
}
