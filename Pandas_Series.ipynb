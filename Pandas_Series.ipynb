{
 "cells": [
  {
   "cell_type": "markdown",
   "metadata": {},
   "source": [
    "<h1 style = \"color:Brown\">Data Handling using Pandas</h1>\n",
    "\n",
    "### At the end of this chapter, you will be able to\n",
    "\n",
    "* Create and use various data structures in Pandas\n",
    "\n",
    "\n",
    "* Perform various operations on Pandas data structures\n",
    "\n",
    "\n",
    "* Import/Export data from/to different sources"
   ]
  },
  {
   "cell_type": "markdown",
   "metadata": {},
   "source": [
    "<h2 style = \"color:Purple\">What is Pandas?</h2>"
   ]
  },
  {
   "cell_type": "markdown",
   "metadata": {},
   "source": [
    "* PANDAS - PANel DAta\n",
    "\n",
    "\n",
    "* Built on top of NumPy\n",
    "\n",
    "\n",
    "* Used for data analysis and pre-processing\n",
    "\n",
    "\n",
    "* Two Data Structures\n",
    "    1. Series\n",
    "    2. DataFrame\n",
    "    \n",
    "  \n",
    "* Pandas Data structures can have different data types\n",
    "\n",
    "\n",
    "\n",
    "* Preferred when the data is in tabular format\n",
    "\n",
    "\n",
    "* Supports integration with different types of data sorces such as excel files, csv files, sql tables, json files etc.\n",
    "\n"
   ]
  },
  {
   "cell_type": "markdown",
   "metadata": {},
   "source": [
    "<h2 style = \"color:Purple\">Installation</h2>"
   ]
  },
  {
   "cell_type": "markdown",
   "metadata": {},
   "source": [
    "* Installing Pandas fron PyPI via pip on commannd line\n",
    "<h4 style = \"color:Green\">pip install pandas</h4>    \n",
    "    \n",
    "\n",
    "\n",
    "* Installing Pandas with Anaconda\n",
    "<h4 style = \"color:Green\">conda install pandas</h4>\n",
    "    "
   ]
  },
  {
   "cell_type": "markdown",
   "metadata": {},
   "source": [
    "<h2 style = \"color:Purple\"> Loading Pandas</h2>\n",
    "\n",
    "* Need to import the pandas to load and use it"
   ]
  },
  {
   "cell_type": "code",
   "execution_count": 34,
   "metadata": {},
   "outputs": [],
   "source": [
    "import pandas as pd"
   ]
  },
  {
   "cell_type": "markdown",
   "metadata": {},
   "source": [
    "<h2 style = \"color:Purple\">Pandas Data Structures</h2>\n",
    "\n",
    "\n",
    "### 1. Series\n",
    "\n",
    "### 2. DataFrame"
   ]
  },
  {
   "cell_type": "markdown",
   "metadata": {},
   "source": [
    "<h3 style = \"color:Green\">Pandas Series</h3>\n",
    "\n",
    "\n",
    "* One-dimensional array-like object contains a sequence of data values of any type.\n",
    "\n",
    "\n",
    "* Index - Label associated with a value in Series. (Index starts with 0)\n",
    "\n",
    "\n",
    "* Example series: Employees\n",
    "\n",
    "       Index     Value\n",
    "    \n",
    "         0        Ram\n",
    "         1        Sam\n",
    "         2        Raj\n",
    "         3        Rani"
   ]
  },
  {
   "cell_type": "markdown",
   "metadata": {},
   "source": [
    "#### Creation of a Series\n",
    "\n",
    "* pandas.Series(data): Returns a pandas Series object with values specified by given iterable or scalar value."
   ]
  },
  {
   "cell_type": "markdown",
   "metadata": {},
   "source": [
    "#### Pandas Series from a list"
   ]
  },
  {
   "cell_type": "code",
   "execution_count": 2,
   "metadata": {},
   "outputs": [
    {
     "name": "stdout",
     "output_type": "stream",
     "text": [
      "0    10\n",
      "1    20\n",
      "2    30\n",
      "3    40\n",
      "dtype: int64\n",
      "<class 'pandas.core.series.Series'>\n"
     ]
    }
   ],
   "source": [
    "sl1 = pd.Series([10, 20, 30, 40])\n",
    "print(sl1)\n",
    "print(type(sl1))"
   ]
  },
  {
   "cell_type": "code",
   "execution_count": 3,
   "metadata": {},
   "outputs": [
    {
     "name": "stdout",
     "output_type": "stream",
     "text": [
      "0       Raju\n",
      "1         45\n",
      "2    2345.78\n",
      "dtype: object\n",
      "<class 'pandas.core.series.Series'>\n"
     ]
    }
   ],
   "source": [
    "sl2 = pd.Series([\"Raju\", 45, 2345.78])\n",
    "print(sl2)\n",
    "print(type(sl2))"
   ]
  },
  {
   "cell_type": "markdown",
   "metadata": {},
   "source": [
    "#### Pandas Series from a Tuple"
   ]
  },
  {
   "cell_type": "code",
   "execution_count": 4,
   "metadata": {},
   "outputs": [
    {
     "name": "stdout",
     "output_type": "stream",
     "text": [
      "0    100.0\n",
      "1    200.0\n",
      "2    300.0\n",
      "dtype: float64\n",
      "<class 'pandas.core.series.Series'>\n"
     ]
    }
   ],
   "source": [
    "st1 = pd.Series((100.0, 200.0, 300.0))\n",
    "print(st1)\n",
    "print(type(st1))"
   ]
  },
  {
   "cell_type": "markdown",
   "metadata": {},
   "source": [
    "#### Pandas Series from a dictionary"
   ]
  },
  {
   "cell_type": "code",
   "execution_count": 5,
   "metadata": {},
   "outputs": [
    {
     "name": "stdout",
     "output_type": "stream",
     "text": [
      "name     ramu\n",
      "age        41\n",
      "Dept    Inter\n",
      "dtype: object\n"
     ]
    }
   ],
   "source": [
    "sd1 = pd.Series({\"name\":\"ramu\", \"age\":41, \"Dept\":\"Inter\"})\n",
    "print(sd1)"
   ]
  },
  {
   "cell_type": "markdown",
   "metadata": {},
   "source": [
    "#### Pandas Series from a ndarray"
   ]
  },
  {
   "cell_type": "code",
   "execution_count": 6,
   "metadata": {},
   "outputs": [
    {
     "name": "stdout",
     "output_type": "stream",
     "text": [
      "[1 3 5 7 9]\n",
      "<class 'numpy.ndarray'>\n",
      "\n",
      "0    1\n",
      "1    3\n",
      "2    5\n",
      "3    7\n",
      "4    9\n",
      "dtype: int32\n",
      "<class 'pandas.core.series.Series'>\n"
     ]
    }
   ],
   "source": [
    "import numpy as np\n",
    "arr1 = np.arange(1, 10, 2)\n",
    "print(arr1)\n",
    "print(type(arr1))\n",
    "print()\n",
    "sn1 = pd.Series(arr1)\n",
    "print(sn1)\n",
    "print(type(sn1))"
   ]
  },
  {
   "cell_type": "code",
   "execution_count": 7,
   "metadata": {},
   "outputs": [
    {
     "name": "stdout",
     "output_type": "stream",
     "text": [
      "0     1\n",
      "1     2\n",
      "2     3\n",
      "3     4\n",
      "4     5\n",
      "5     6\n",
      "6     7\n",
      "7     8\n",
      "8     9\n",
      "9    10\n",
      "dtype: int64\n"
     ]
    }
   ],
   "source": [
    "ser1 = pd.Series(range(1, 11))\n",
    "print(ser1)"
   ]
  },
  {
   "cell_type": "markdown",
   "metadata": {},
   "source": [
    "<h2 style = \"color:Purple\">Accessing Series Elements</h2>"
   ]
  },
  {
   "cell_type": "markdown",
   "metadata": {},
   "source": [
    "### 1. Indexing: To access individial elements\n",
    "### 2. Slicing: To access a part of the Series"
   ]
  },
  {
   "cell_type": "markdown",
   "metadata": {},
   "source": [
    "<h3 style = \"color:Green\">1. Indexing</h3>"
   ]
  },
  {
   "cell_type": "markdown",
   "metadata": {},
   "source": [
    "### Two Types of Indexing\n",
    "\n",
    "#### 1. Positional Indexing: Values can be accessed by their position. (Starts from 0)\n",
    "#### 2. Labelled Indexing: Values can be accessed using any user-defined labels."
   ]
  },
  {
   "cell_type": "code",
   "execution_count": 8,
   "metadata": {},
   "outputs": [
    {
     "name": "stdout",
     "output_type": "stream",
     "text": [
      "0     5\n",
      "1    10\n",
      "2    15\n",
      "3    20\n",
      "dtype: int64\n",
      "5\n",
      "0     0\n",
      "1    10\n",
      "2    15\n",
      "3    20\n",
      "dtype: int64\n",
      "10\n"
     ]
    }
   ],
   "source": [
    "# Positional Indexing\n",
    "si1 = pd.Series([5, 10, 15, 20])\n",
    "print(si1)\n",
    "print(si1[0])\n",
    "si1[0] = 0\n",
    "print(si1)\n",
    "print(si1[1])"
   ]
  },
  {
   "cell_type": "code",
   "execution_count": 9,
   "metadata": {},
   "outputs": [
    {
     "name": "stdout",
     "output_type": "stream",
     "text": [
      "Ramu    2000\n",
      "Raju    4500\n",
      "Rani    6700\n",
      "dtype: int64\n",
      "4500\n",
      "4500\n",
      "10000\n"
     ]
    }
   ],
   "source": [
    "# Labelled Indexing\n",
    "si2 = pd.Series([2000, 4500, 6700], index = [\"Ramu\", \"Raju\", \"Rani\"])\n",
    "print(si2)\n",
    "print(si2[\"Raju\"])\n",
    "print(si2[1])\n",
    "si2[\"Rani\"] = 10000\n",
    "print(si2[\"Rani\"])"
   ]
  },
  {
   "cell_type": "markdown",
   "metadata": {},
   "source": [
    "<h3 style = \"color:Green\">2. Slicing</h3>\n",
    "\n",
    "* Usage: pandas.Series[start_index:end_index:step]\n",
    "\n",
    "\n",
    "* -> Default start_index is 0\n",
    "\n",
    "\n",
    "* -> Default step is 1\n",
    "\n",
    "\n",
    "* -> end_index is excluded"
   ]
  },
  {
   "cell_type": "code",
   "execution_count": 10,
   "metadata": {},
   "outputs": [
    {
     "name": "stdout",
     "output_type": "stream",
     "text": [
      "0     10\n",
      "1     20\n",
      "2     30\n",
      "3     40\n",
      "4     50\n",
      "5     60\n",
      "6     70\n",
      "7     80\n",
      "8     90\n",
      "9    100\n",
      "dtype: int64\n"
     ]
    }
   ],
   "source": [
    "data1 = pd.Series(range(10, 101, 10))\n",
    "print(data1)"
   ]
  },
  {
   "cell_type": "code",
   "execution_count": 11,
   "metadata": {},
   "outputs": [
    {
     "name": "stdout",
     "output_type": "stream",
     "text": [
      "0    10\n",
      "1    20\n",
      "2    30\n",
      "3    40\n",
      "dtype: int64\n"
     ]
    }
   ],
   "source": [
    "print(data1[:4]) # start index is 0, step is 1 and end_index is 4 (excluded)\n",
    "\n",
    "                # indexes -> 0, 1, 2, 3"
   ]
  },
  {
   "cell_type": "code",
   "execution_count": 12,
   "metadata": {},
   "outputs": [
    {
     "name": "stdout",
     "output_type": "stream",
     "text": [
      "0    10\n",
      "2    30\n",
      "4    50\n",
      "6    70\n",
      "8    90\n",
      "dtype: int64\n"
     ]
    }
   ],
   "source": [
    "print(data1[: : 2]) # step 2 -> 0, 2, 4, 6, 8"
   ]
  },
  {
   "cell_type": "code",
   "execution_count": 13,
   "metadata": {},
   "outputs": [
    {
     "name": "stdout",
     "output_type": "stream",
     "text": [
      "1    20\n",
      "2    30\n",
      "dtype: int64\n"
     ]
    }
   ],
   "source": [
    "print(data1[1:3]) # start_index = 1, end_index = 3(excluded, step = 1 -> indexes = 1, 2"
   ]
  },
  {
   "cell_type": "code",
   "execution_count": 14,
   "metadata": {},
   "outputs": [
    {
     "name": "stdout",
     "output_type": "stream",
     "text": [
      "0    1000\n",
      "1    2000\n",
      "2    3000\n",
      "3    4000\n",
      "4    5000\n",
      "dtype: int64\n"
     ]
    }
   ],
   "source": [
    "data2 = pd.Series([1000, 2000, 3000, 4000, 5000])\n",
    "print(data2)"
   ]
  },
  {
   "cell_type": "code",
   "execution_count": 15,
   "metadata": {},
   "outputs": [
    {
     "name": "stdout",
     "output_type": "stream",
     "text": [
      "2    3000\n",
      "3    4000\n",
      "dtype: int64\n"
     ]
    }
   ],
   "source": [
    "data21 = data2[2:4] # start_index = 2, end_index = 4 (excluded), step = 1 -> 2, 3\n",
    "print(data21)"
   ]
  },
  {
   "cell_type": "code",
   "execution_count": 16,
   "metadata": {},
   "outputs": [
    {
     "name": "stdout",
     "output_type": "stream",
     "text": [
      "4    5000\n",
      "3    4000\n",
      "2    3000\n",
      "1    2000\n",
      "0    1000\n",
      "dtype: int64\n"
     ]
    }
   ],
   "source": [
    "data22 = data2[: : -1] # indexes = 4, 3, 2, 1, 0\n",
    "print(data22)"
   ]
  },
  {
   "cell_type": "markdown",
   "metadata": {},
   "source": [
    "<h2 style = \"color:Purple\">Series Attributes</h2>"
   ]
  },
  {
   "cell_type": "markdown",
   "metadata": {},
   "source": [
    "### 1. values: Array of all values in the series\n",
    "### 2. index: Object with all indexes as its values \n",
    "### 3. dtype: Data type of the Series's elements\n",
    "### 4. name: Name of the Series object\n",
    "### 5. size: Number of values in the Series object\n",
    "### 6. empty: True if Series is empty"
   ]
  },
  {
   "cell_type": "code",
   "execution_count": 17,
   "metadata": {},
   "outputs": [
    {
     "name": "stdout",
     "output_type": "stream",
     "text": [
      "0    100\n",
      "1    200\n",
      "2    300\n",
      "3    400\n",
      "4    500\n",
      "dtype: int64\n"
     ]
    }
   ],
   "source": [
    "sa = pd.Series([100, 200, 300, 400, 500])\n",
    "print(sa)"
   ]
  },
  {
   "cell_type": "code",
   "execution_count": 18,
   "metadata": {},
   "outputs": [
    {
     "name": "stdout",
     "output_type": "stream",
     "text": [
      "[100 200 300 400 500]\n"
     ]
    }
   ],
   "source": [
    "print(sa.values)"
   ]
  },
  {
   "cell_type": "code",
   "execution_count": 19,
   "metadata": {},
   "outputs": [
    {
     "name": "stdout",
     "output_type": "stream",
     "text": [
      "RangeIndex(start=0, stop=5, step=1)\n",
      "a    100\n",
      "b    200\n",
      "c    300\n",
      "d    400\n",
      "e    500\n",
      "dtype: int64\n",
      "Index(['a', 'b', 'c', 'd', 'e'], dtype='object')\n"
     ]
    }
   ],
   "source": [
    "print(sa.index)\n",
    "sa.index = ['a', 'b', 'c', 'd', 'e']\n",
    "print(sa)\n",
    "print(sa.index)"
   ]
  },
  {
   "cell_type": "code",
   "execution_count": 20,
   "metadata": {},
   "outputs": [
    {
     "name": "stdout",
     "output_type": "stream",
     "text": [
      "int64\n"
     ]
    }
   ],
   "source": [
    "print(sa.dtype)"
   ]
  },
  {
   "cell_type": "code",
   "execution_count": 21,
   "metadata": {},
   "outputs": [
    {
     "name": "stdout",
     "output_type": "stream",
     "text": [
      "None\n",
      "My values\n",
      "a    100\n",
      "b    200\n",
      "c    300\n",
      "d    400\n",
      "e    500\n",
      "Name: My values, dtype: int64\n"
     ]
    }
   ],
   "source": [
    "print(sa.name)\n",
    "sa.name = 'My values'\n",
    "print(sa.name)\n",
    "print(sa)"
   ]
  },
  {
   "cell_type": "code",
   "execution_count": 22,
   "metadata": {},
   "outputs": [
    {
     "name": "stdout",
     "output_type": "stream",
     "text": [
      "5\n"
     ]
    }
   ],
   "source": [
    "print(sa.size)"
   ]
  },
  {
   "cell_type": "code",
   "execution_count": 23,
   "metadata": {},
   "outputs": [
    {
     "name": "stdout",
     "output_type": "stream",
     "text": [
      "False\n",
      "True\n"
     ]
    },
    {
     "name": "stderr",
     "output_type": "stream",
     "text": [
      "C:\\ProgramData\\Anaconda3\\lib\\site-packages\\ipykernel_launcher.py:3: DeprecationWarning: The default dtype for empty Series will be 'object' instead of 'float64' in a future version. Specify a dtype explicitly to silence this warning.\n",
      "  This is separate from the ipykernel package so we can avoid doing imports until\n"
     ]
    }
   ],
   "source": [
    "print(sa.empty)\n",
    "\n",
    "sempty = pd.Series()\n",
    "print(sempty.empty)\n"
   ]
  },
  {
   "cell_type": "markdown",
   "metadata": {},
   "source": [
    "<h2 style = \"color:Purple\">Series Methods</h2>"
   ]
  },
  {
   "cell_type": "markdown",
   "metadata": {},
   "source": [
    "<h3 style = \"color:Green\">head() and tail() Methods</h3>\n",
    "\n",
    "\n",
    "### Series.head(number_of_elements): Displays specified number of Series elements from the first.\n",
    "\n",
    "\n",
    "\n",
    "### Series.tail(number_of_elements): Displays specified number of Series elements from the last.\n",
    "\n",
    "\n",
    "#### Note: The default number of elements to be displayed is 5"
   ]
  },
  {
   "cell_type": "code",
   "execution_count": 24,
   "metadata": {},
   "outputs": [
    {
     "name": "stdout",
     "output_type": "stream",
     "text": [
      "0       10\n",
      "1       20\n",
      "2       30\n",
      "3       40\n",
      "4       50\n",
      "      ... \n",
      "95     960\n",
      "96     970\n",
      "97     980\n",
      "98     990\n",
      "99    1000\n",
      "Length: 100, dtype: int64\n"
     ]
    }
   ],
   "source": [
    "ht = pd.Series(range(10, 1001, 10))\n",
    "print(ht)"
   ]
  },
  {
   "cell_type": "code",
   "execution_count": 25,
   "metadata": {},
   "outputs": [
    {
     "name": "stdout",
     "output_type": "stream",
     "text": [
      "First five elements are: \n",
      "0    10\n",
      "1    20\n",
      "2    30\n",
      "3    40\n",
      "4    50\n",
      "dtype: int64\n"
     ]
    }
   ],
   "source": [
    "print(\"First five elements are: \")\n",
    "\n",
    "print(ht.head())"
   ]
  },
  {
   "cell_type": "code",
   "execution_count": 26,
   "metadata": {},
   "outputs": [
    {
     "name": "stdout",
     "output_type": "stream",
     "text": [
      "First 6 elements are: \n",
      "0    10\n",
      "1    20\n",
      "2    30\n",
      "3    40\n",
      "4    50\n",
      "5    60\n",
      "dtype: int64\n"
     ]
    }
   ],
   "source": [
    "print(\"First 6 elements are: \")\n",
    "print(ht.head(6))"
   ]
  },
  {
   "cell_type": "code",
   "execution_count": 27,
   "metadata": {},
   "outputs": [
    {
     "name": "stdout",
     "output_type": "stream",
     "text": [
      "Last 5 elements are: \n",
      "95     960\n",
      "96     970\n",
      "97     980\n",
      "98     990\n",
      "99    1000\n",
      "dtype: int64\n"
     ]
    }
   ],
   "source": [
    "print(\"Last 5 elements are: \")\n",
    "print(ht.tail())\n"
   ]
  },
  {
   "cell_type": "code",
   "execution_count": 28,
   "metadata": {},
   "outputs": [
    {
     "name": "stdout",
     "output_type": "stream",
     "text": [
      "Last 10 elements are: \n",
      "90     910\n",
      "91     920\n",
      "92     930\n",
      "93     940\n",
      "94     950\n",
      "95     960\n",
      "96     970\n",
      "97     980\n",
      "98     990\n",
      "99    1000\n",
      "dtype: int64\n"
     ]
    }
   ],
   "source": [
    "print(\"Last 10 elements are: \")\n",
    "print(ht.tail(10))"
   ]
  },
  {
   "cell_type": "markdown",
   "metadata": {},
   "source": [
    "<h3 style = \"color:Green\">Mathematical Operations on Series objects</h3>\n",
    "\n",
    "\n",
    "* All basic operations(addition, subtraction, multiplication, division etc.) can be performed.\n",
    "\n",
    "\n",
    "* Operations are performed on index matiching and missing values are filled with NaN by default."
   ]
  },
  {
   "cell_type": "code",
   "execution_count": 35,
   "metadata": {},
   "outputs": [
    {
     "name": "stdout",
     "output_type": "stream",
     "text": [
      "a    10\n",
      "b    20\n",
      "c   -30\n",
      "dtype: int64\n",
      "k    40\n",
      "c   -10\n",
      "a    60\n",
      "dtype: int64\n"
     ]
    }
   ],
   "source": [
    "s1 = pd.Series([10, 20, -30], index = [\"a\", \"b\", \"c\"])\n",
    "print(s1)\n",
    "\n",
    "s2 = pd.Series([40, -10, 60], index = [\"k\", \"c\", \"a\"])\n",
    "print(s2)"
   ]
  },
  {
   "attachments": {
    "New%20Microsoft%20PowerPoint%20Presentation.png": {
     "image/png": "[encoded data removed]"
    }
   },
   "cell_type": "markdown",
   "metadata": {},
   "source": [
    "![New%20Microsoft%20PowerPoint%20Presentation.png](attachment:New%20Microsoft%20PowerPoint%20Presentation.png)"
   ]
  },
  {
   "cell_type": "code",
   "execution_count": 36,
   "metadata": {},
   "outputs": [
    {
     "name": "stdout",
     "output_type": "stream",
     "text": [
      "Addition: \n",
      "a    70.0\n",
      "b     NaN\n",
      "c   -40.0\n",
      "k     NaN\n",
      "dtype: float64\n"
     ]
    }
   ],
   "source": [
    "print(\"Addition: \")\n",
    "s3 = s1 + s2\n",
    "print(s3)"
   ]
  },
  {
   "cell_type": "code",
   "execution_count": 37,
   "metadata": {},
   "outputs": [
    {
     "name": "stdout",
     "output_type": "stream",
     "text": [
      "Subtraction: \n",
      "a   -50.0\n",
      "b     NaN\n",
      "c   -20.0\n",
      "k     NaN\n",
      "dtype: float64\n"
     ]
    }
   ],
   "source": [
    "print(\"Subtraction: \")\n",
    "s4 = s1 - s2\n",
    "print(s4)"
   ]
  },
  {
   "cell_type": "code",
   "execution_count": 38,
   "metadata": {},
   "outputs": [
    {
     "name": "stdout",
     "output_type": "stream",
     "text": [
      "Multiplication: \n",
      "a    600.0\n",
      "b      NaN\n",
      "c    300.0\n",
      "k      NaN\n",
      "dtype: float64\n"
     ]
    }
   ],
   "source": [
    "print(\"Multiplication: \")\n",
    "s5 = s1 * s2\n",
    "print(s5)\n"
   ]
  },
  {
   "cell_type": "code",
   "execution_count": 39,
   "metadata": {},
   "outputs": [
    {
     "name": "stdout",
     "output_type": "stream",
     "text": [
      "Division: \n",
      "a    0.166667\n",
      "b         NaN\n",
      "c    3.000000\n",
      "k         NaN\n",
      "dtype: float64\n"
     ]
    }
   ],
   "source": [
    "print(\"Division: \")\n",
    "s6 = s1 / s2\n",
    "print(s6)\n"
   ]
  },
  {
   "cell_type": "markdown",
   "metadata": {},
   "source": [
    "<h3 style = \"color:Green\">Methods for Mathematical Operations</h3>\n",
    "\n",
    "\n",
    "\n",
    "#### new_Series = SeriesA.add(SeriesB, fill_value = value)\n",
    "\n",
    "\n",
    "#### new_Series = SeriesA.sub(SeriesB, fill_value = value)\n",
    "\n",
    "\n",
    "#### new_Series = SeriesA.mul(SeriesB, fill_value = value)\n",
    "\n",
    "\n",
    "#### new_Series = SeriesA.div(SeriesB, fill_value = value)\n",
    "\n",
    "* Note: fill_value is optional argument to fill NaNs with required value"
   ]
  },
  {
   "cell_type": "code",
   "execution_count": 42,
   "metadata": {},
   "outputs": [
    {
     "name": "stdout",
     "output_type": "stream",
     "text": [
      "a    70.0\n",
      "b    20.0\n",
      "c   -40.0\n",
      "k    40.0\n",
      "dtype: float64\n"
     ]
    }
   ],
   "source": [
    "sa1 = s1.add(s2, fill_value = 0)\n",
    "print(sa1)"
   ]
  },
  {
   "cell_type": "code",
   "execution_count": 43,
   "metadata": {},
   "outputs": [
    {
     "name": "stdout",
     "output_type": "stream",
     "text": [
      "a   -50.0\n",
      "b    20.0\n",
      "c   -20.0\n",
      "k   -40.0\n",
      "dtype: float64\n"
     ]
    }
   ],
   "source": [
    "sa2 = s1.sub(s2, fill_value = 0)\n",
    "print(sa2)"
   ]
  },
  {
   "cell_type": "code",
   "execution_count": 44,
   "metadata": {},
   "outputs": [
    {
     "name": "stdout",
     "output_type": "stream",
     "text": [
      "a    600.0\n",
      "b     20.0\n",
      "c    300.0\n",
      "k     40.0\n",
      "dtype: float64\n"
     ]
    }
   ],
   "source": [
    "sa3 = s1.mul(s2, fill_value = 1)\n",
    "print(sa3)"
   ]
  },
  {
   "cell_type": "code",
   "execution_count": 45,
   "metadata": {},
   "outputs": [
    {
     "name": "stdout",
     "output_type": "stream",
     "text": [
      "a    0.166667\n",
      "b         inf\n",
      "c    3.000000\n",
      "k    0.000000\n",
      "dtype: float64\n"
     ]
    }
   ],
   "source": [
    "sa4 = s1.div(s2, fill_value = 0)\n",
    "print(sa4)"
   ]
  },
  {
   "cell_type": "code",
   "execution_count": null,
   "metadata": {},
   "outputs": [],
   "source": []
  }
 ],
 "metadata": {
  "kernelspec": {
   "display_name": "Python 3",
   "language": "python",
   "name": "python3"
  },
  "language_info": {
   "codemirror_mode": {
    "name": "ipython",
    "version": 3
   },
   "file_extension": ".py",
   "mimetype": "text/x-python",
   "name": "python",
   "nbconvert_exporter": "python",
   "pygments_lexer": "ipython3",
   "version": "3.7.6"
  }
 },
 "nbformat": 4,
 "nbformat_minor": 4
}
