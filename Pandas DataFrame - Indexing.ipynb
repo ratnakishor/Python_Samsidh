{
 "cells": [
  {
   "cell_type": "markdown",
   "metadata": {},
   "source": [
    "<h2 style = \"color:Green\">Indexing</h2>\n",
    "\n",
    "* To access a row or column of the DataFrame\n",
    "\n",
    "\n",
    "* Types\n",
    "    1. Label Based Indexing\n",
    "    2. Location(Position) Based Indexing\n",
    "    \n",
    "     Note that all Indexing operations returns selected row or column as a Series."
   ]
  },
  {
   "cell_type": "markdown",
   "metadata": {},
   "source": [
    "<h3 style = \"color:Blue\">1. Label Based Indexing</h3>\n",
    "\n",
    "* Differenet Label Based Indexing Operations\n",
    "\n",
    "    1. Select a row by label: **Series = DataFrame.loc[row_label]**\n",
    "    \n",
    "    2. Select a column by label\n",
    "    \n",
    "        a) Select a column by label: **Series = DataFrame[col_label]**        \n",
    "        b) Select a column by label with loc method: **Series = DataFrame.loc[: , col_label]**"
   ]
  },
  {
   "cell_type": "code",
   "execution_count": 2,
   "metadata": {},
   "outputs": [],
   "source": [
    "import pandas as pd"
   ]
  },
  {
   "cell_type": "code",
   "execution_count": 3,
   "metadata": {},
   "outputs": [
    {
     "name": "stdout",
     "output_type": "stream",
     "text": [
      "        Name Department  Salary\n",
      "ID001   Ravi      Sales    6000\n",
      "ID002   Prem      Admin    5500\n",
      "ID003  Satya    Finance    7000\n"
     ]
    }
   ],
   "source": [
    "# DataFrame\n",
    "df = pd.DataFrame({\"Name\":[\"Ravi\", \"Prem\", \"Satya\"], \"Department\":[\"Sales\", \"Admin\", \"Finance\"], \"Salary\":[6000, 5500, 7000]}, index = [\"ID001\", \"ID002\",\"ID003\"])\n",
    "print(df)"
   ]
  },
  {
   "cell_type": "code",
   "execution_count": 6,
   "metadata": {},
   "outputs": [
    {
     "name": "stdout",
     "output_type": "stream",
     "text": [
      "Name           Ravi\n",
      "Department    Sales\n",
      "Salary         6000\n",
      "Name: ID001, dtype: object\n",
      "<class 'pandas.core.series.Series'>\n",
      "-----------------\n",
      "Name           Prem\n",
      "Department    Admin\n",
      "Salary         5500\n",
      "Name: ID002, dtype: object\n"
     ]
    }
   ],
   "source": [
    "# Selecting row by label\n",
    "\n",
    "series_ID001 = df.loc[\"ID001\"]\n",
    "print(series_ID001)\n",
    "print(type(series_ID001))\n",
    "\n",
    "print(\"-----------------\")\n",
    "\n",
    "series_ID002 = df.loc[\"ID002\"]\n",
    "print(series_ID002)\n"
   ]
  },
  {
   "cell_type": "code",
   "execution_count": 7,
   "metadata": {},
   "outputs": [
    {
     "name": "stdout",
     "output_type": "stream",
     "text": [
      "ID001     Ravi\n",
      "ID002     Prem\n",
      "ID003    Satya\n",
      "Name: Name, dtype: object\n"
     ]
    }
   ],
   "source": [
    "# Selecting a column by a label\n",
    "\n",
    "Name_series = df[\"Name\"]\n",
    "print(Name_series)"
   ]
  },
  {
   "cell_type": "code",
   "execution_count": 8,
   "metadata": {},
   "outputs": [
    {
     "name": "stdout",
     "output_type": "stream",
     "text": [
      "ID001      Sales\n",
      "ID002      Admin\n",
      "ID003    Finance\n",
      "Name: Department, dtype: object\n"
     ]
    }
   ],
   "source": [
    "# Selecting a column by label with loc mehod\n",
    "dept_series = df.loc[:,\"Department\"]\n",
    "print(dept_series)\n"
   ]
  },
  {
   "cell_type": "markdown",
   "metadata": {},
   "source": [
    "<h3 style = \"color:Blue\">2. Location(Position) Based Indexing</h3>\n",
    "\n",
    "* Location Based Indexing Operations\n",
    "\n",
    "    1. Select a row by integer location: **Series = DataFrame.iloc[row_location]**\n",
    "    2. Select a column by integer location **Series = DataFrame.iloc[: , col_location]**"
   ]
  },
  {
   "cell_type": "code",
   "execution_count": 9,
   "metadata": {},
   "outputs": [
    {
     "name": "stdout",
     "output_type": "stream",
     "text": [
      "        Name Department  Salary\n",
      "ID001   Ravi      Sales    6000\n",
      "ID002   Prem      Admin    5500\n",
      "ID003  Satya    Finance    7000\n"
     ]
    }
   ],
   "source": [
    "print(df)"
   ]
  },
  {
   "cell_type": "code",
   "execution_count": 13,
   "metadata": {},
   "outputs": [
    {
     "name": "stdout",
     "output_type": "stream",
     "text": [
      "Name           Ravi\n",
      "Department    Sales\n",
      "Salary         6000\n",
      "Name: ID001, dtype: object\n",
      "<class 'pandas.core.series.Series'>\n",
      "----------\n",
      "Name           Prem\n",
      "Department    Admin\n",
      "Salary         5500\n",
      "Name: ID002, dtype: object\n"
     ]
    }
   ],
   "source": [
    "# Selecting row by position(integer location)\n",
    "\n",
    "s1 = df.iloc[0]\n",
    "print(s1)\n",
    "print(type(s1))\n",
    "\n",
    "print(\"----------\")\n",
    "\n",
    "s2 = df.iloc[1]\n",
    "print(s2)"
   ]
  },
  {
   "cell_type": "code",
   "execution_count": 14,
   "metadata": {},
   "outputs": [
    {
     "name": "stdout",
     "output_type": "stream",
     "text": [
      "ID001     Ravi\n",
      "ID002     Prem\n",
      "ID003    Satya\n",
      "Name: Name, dtype: object\n"
     ]
    }
   ],
   "source": [
    "# Selecting a column by position(integer location)\n",
    "name_series1 = df.iloc[:,0]\n",
    "print(name_series1)"
   ]
  },
  {
   "cell_type": "code",
   "execution_count": null,
   "metadata": {},
   "outputs": [],
   "source": []
  }
 ],
 "metadata": {
  "kernelspec": {
   "display_name": "Python 3",
   "language": "python",
   "name": "python3"
  },
  "language_info": {
   "codemirror_mode": {
    "name": "ipython",
    "version": 3
   },
   "file_extension": ".py",
   "mimetype": "text/x-python",
   "name": "python",
   "nbconvert_exporter": "python",
   "pygments_lexer": "ipython3",
   "version": "3.7.6"
  }
 },
 "nbformat": 4,
 "nbformat_minor": 4
}
