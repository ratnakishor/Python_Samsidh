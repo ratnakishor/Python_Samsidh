{
 "cells": [
  {
   "cell_type": "markdown",
   "metadata": {},
   "source": [
    "<h2 style = \"color:Green\"> 1. Create pandas series from a dictionary and access its elements</h2>"
   ]
  },
  {
   "cell_type": "code",
   "execution_count": 12,
   "metadata": {},
   "outputs": [],
   "source": [
    "import pandas as pd"
   ]
  },
  {
   "cell_type": "code",
   "execution_count": 2,
   "metadata": {},
   "outputs": [
    {
     "name": "stdout",
     "output_type": "stream",
     "text": [
      "a    100\n",
      "b    200\n",
      "c    300\n",
      "dtype: int64\n"
     ]
    }
   ],
   "source": [
    "dict1 = {'a':100, 'b':200, 'c':300}\n",
    "\n",
    "ser1 = pd.Series(dict1)\n",
    "\n",
    "print(ser1)"
   ]
  },
  {
   "cell_type": "code",
   "execution_count": 3,
   "metadata": {},
   "outputs": [
    {
     "name": "stdout",
     "output_type": "stream",
     "text": [
      "100\n",
      "200\n",
      "300\n"
     ]
    }
   ],
   "source": [
    "# Positional Indexing to access the series values\n",
    "print(ser1[0])\n",
    "print(ser1[1])\n",
    "print(ser1[2])"
   ]
  },
  {
   "cell_type": "code",
   "execution_count": 4,
   "metadata": {},
   "outputs": [
    {
     "name": "stdout",
     "output_type": "stream",
     "text": [
      "100\n",
      "200\n",
      "300\n"
     ]
    }
   ],
   "source": [
    "# Labelled Indexing to access the series values\n",
    "print(ser1['a'])\n",
    "print(ser1['b'])\n",
    "print(ser1['c'])"
   ]
  },
  {
   "cell_type": "code",
   "execution_count": 5,
   "metadata": {},
   "outputs": [
    {
     "name": "stdout",
     "output_type": "stream",
     "text": [
      "Sum of all values in the series: 600\n"
     ]
    }
   ],
   "source": [
    "print(\"Sum of all values in the series:\", ser1['a'] + ser1['b'] + ser1['c'])"
   ]
  },
  {
   "cell_type": "markdown",
   "metadata": {},
   "source": [
    "<h2 style = \"color:Green\">2. Create pandas series from a ndarray and access its elements</h2>"
   ]
  },
  {
   "cell_type": "markdown",
   "metadata": {},
   "source": [
    "1. Create a ndarray object --> numpy.array()\n",
    "\n",
    "2. Create a series object from the ndarray object --> pandas.Series()"
   ]
  },
  {
   "cell_type": "code",
   "execution_count": 6,
   "metadata": {},
   "outputs": [
    {
     "name": "stdout",
     "output_type": "stream",
     "text": [
      "[10 20 30 40 50]\n",
      "<class 'numpy.ndarray'>\n"
     ]
    }
   ],
   "source": [
    "# Setp 1\n",
    "import numpy as np\n",
    "arr1 = np.array([10, 20, 30, 40, 50])\n",
    "print(arr1)\n",
    "print(type(arr1))"
   ]
  },
  {
   "cell_type": "code",
   "execution_count": 7,
   "metadata": {},
   "outputs": [
    {
     "name": "stdout",
     "output_type": "stream",
     "text": [
      "0    10\n",
      "1    20\n",
      "2    30\n",
      "3    40\n",
      "4    50\n",
      "dtype: int32\n",
      "<class 'pandas.core.series.Series'>\n"
     ]
    }
   ],
   "source": [
    "# Step 2\n",
    "ser2 = pd.Series(arr1)\n",
    "print(ser2)\n",
    "print(type(ser2))"
   ]
  },
  {
   "cell_type": "markdown",
   "metadata": {},
   "source": [
    "<h2 style = \"color:Green\"> 3. Given a series, display different percentile values.</h2>"
   ]
  },
  {
   "cell_type": "markdown",
   "metadata": {},
   "source": [
    "<h3 style = \"color:Orange\">Kth Percentile = x</h3>\n",
    "\n",
    "* K percent of the values in the given data set are less than x.\n",
    "\n",
    "* 40th percentile = 75 --> 40 percent of the values are less than 75\n",
    "\n",
    "\n",
    "<h3 style = \"color:Orange\">padas.Series.quantile(k)</h3>\n",
    "\n",
    "* Method to find kth percentile value in the series."
   ]
  },
  {
   "cell_type": "code",
   "execution_count": 8,
   "metadata": {},
   "outputs": [
    {
     "name": "stdout",
     "output_type": "stream",
     "text": [
      "0    19\n",
      "1    39\n",
      "2    37\n",
      "3    74\n",
      "4    29\n",
      "5    47\n",
      "6    20\n",
      "7    84\n",
      "8    33\n",
      "9    88\n",
      "dtype: int64\n"
     ]
    }
   ],
   "source": [
    "ser3 = pd.Series([19, 39, 37, 74, 29, 47, 20, 84, 33, 88])\n",
    "print(ser3)"
   ]
  },
  {
   "cell_type": "code",
   "execution_count": 9,
   "metadata": {},
   "outputs": [
    {
     "name": "stdout",
     "output_type": "stream",
     "text": [
      "35.4\n"
     ]
    }
   ],
   "source": [
    "#40th Percentile\n",
    "p40 = ser3.quantile(0.4)\n",
    "print(p40)"
   ]
  },
  {
   "cell_type": "code",
   "execution_count": 10,
   "metadata": {},
   "outputs": [
    {
     "name": "stdout",
     "output_type": "stream",
     "text": [
      "42.199999999999996\n"
     ]
    }
   ],
   "source": [
    "#60th Percentile\n",
    "p60 = ser3.quantile(0.6)\n",
    "print(p60)"
   ]
  },
  {
   "cell_type": "code",
   "execution_count": 11,
   "metadata": {},
   "outputs": [
    {
     "name": "stdout",
     "output_type": "stream",
     "text": [
      "55.099999999999994\n"
     ]
    }
   ],
   "source": [
    "#70th Percentile\n",
    "p70 = ser3.quantile(0.7)\n",
    "print(p70)"
   ]
  },
  {
   "cell_type": "markdown",
   "metadata": {},
   "source": [
    "<h2 style = \"color:Green\">4. Given a series, display all the elements that are above the 75th percentile</h2>"
   ]
  },
  {
   "cell_type": "markdown",
   "metadata": {},
   "source": [
    "* Steps\n",
    "\n",
    "\n",
    "1. Get the series  --> pandas.Series()\n",
    "\n",
    "2. Calculate the 75th percentile --> pandas.Series.quantile()\n",
    "\n",
    "3. Display the values in the series greater than 75th percentile  --> for loop"
   ]
  },
  {
   "cell_type": "code",
   "execution_count": 15,
   "metadata": {},
   "outputs": [
    {
     "name": "stdout",
     "output_type": "stream",
     "text": [
      "0     10\n",
      "1     20\n",
      "2     30\n",
      "3     40\n",
      "4     50\n",
      "5     60\n",
      "6     70\n",
      "7     80\n",
      "8     90\n",
      "9    100\n",
      "dtype: int64\n"
     ]
    }
   ],
   "source": [
    "# step 1\n",
    "ser4 = pd.Series([10, 20, 30, 40, 50, 60, 70, 80, 90, 100])\n",
    "print(ser4)"
   ]
  },
  {
   "cell_type": "code",
   "execution_count": 14,
   "metadata": {},
   "outputs": [
    {
     "name": "stdout",
     "output_type": "stream",
     "text": [
      "77.5\n"
     ]
    }
   ],
   "source": [
    "# step 2\n",
    "p75 = ser4.quantile(0.75)\n",
    "print(p75)"
   ]
  },
  {
   "cell_type": "code",
   "execution_count": 16,
   "metadata": {},
   "outputs": [
    {
     "name": "stdout",
     "output_type": "stream",
     "text": [
      "80\n",
      "90\n",
      "100\n"
     ]
    }
   ],
   "source": [
    "# step 3\n",
    "for val in ser4.values:\n",
    "    if val > p75:\n",
    "        print(val)"
   ]
  },
  {
   "cell_type": "code",
   "execution_count": null,
   "metadata": {},
   "outputs": [],
   "source": []
  }
 ],
 "metadata": {
  "kernelspec": {
   "display_name": "Python 3",
   "language": "python",
   "name": "python3"
  },
  "language_info": {
   "codemirror_mode": {
    "name": "ipython",
    "version": 3
   },
   "file_extension": ".py",
   "mimetype": "text/x-python",
   "name": "python",
   "nbconvert_exporter": "python",
   "pygments_lexer": "ipython3",
   "version": "3.7.6"
  }
 },
 "nbformat": 4,
 "nbformat_minor": 4
}
